{
    "cells": [
        {
            "metadata": {
                "collapsed": true
            },
            "cell_type": "markdown",
            "source": "# My Jupyter Notebook on IBM Watson Studio"
        },
        {
            "metadata": {},
            "cell_type": "markdown",
            "source": "**Ricardo Arias - Developer Jr.**"
        },
        {
            "metadata": {},
            "cell_type": "markdown",
            "source": "*I'm interested in Data Sciece because I'm enrrolled in all relationated with statistics and I love Data Analysis.\nI would love getting more involve in the maths behind the methods and models to know how and when to apply them*"
        },
        {
            "metadata": {},
            "cell_type": "markdown",
            "source": "### The following code is a class that prompt out the name of the some Juice"
        },
        {
            "metadata": {},
            "cell_type": "code",
            "source": "class Juice:\n    \"\"\" Juice class \"\"\"\n    def __init__(self, fruit, sugar):\n        self.fruit = fruit\n        self.sugar = sugar\n    def __str__(self):\n        return \"{} Juice with {} sugar.\".format(self.fruit, self.sugar) \n    ",
            "execution_count": 1,
            "outputs": []
        },
        {
            "metadata": {},
            "cell_type": "markdown",
            "source": "* First step is to define you object with the fruit and sugar name:"
        },
        {
            "metadata": {},
            "cell_type": "code",
            "source": "kay = Juice(\"Orange\", \"Stevia\")\nprint(kay.fruit)\nprint(kay.sugar)\nprint(kay)",
            "execution_count": 5,
            "outputs": [
                {
                    "output_type": "stream",
                    "text": "Orange\nStevia\nOrange Juice with Stevia sugar.\n",
                    "name": "stdout"
                }
            ]
        },
        {
            "metadata": {},
            "cell_type": "markdown",
            "source": "* Second, you can try by defining more fruits and sugar names:"
        },
        {
            "metadata": {},
            "cell_type": "code",
            "source": "rocko = Juice(\"Watermelon\", \"Splenda\")\nprint(rocko.fruit)\nprint(rocko.sugar)\nprint(rocko)",
            "execution_count": 6,
            "outputs": [
                {
                    "output_type": "stream",
                    "text": "Watermelon\nSplenda\nWatermelon Juice with Splenda sugar.\n",
                    "name": "stdout"
                }
            ]
        },
        {
            "metadata": {},
            "cell_type": "markdown",
            "source": "* Finally, you can get information about the class yous using help()"
        },
        {
            "metadata": {},
            "cell_type": "code",
            "source": "help(Juice)",
            "execution_count": 4,
            "outputs": [
                {
                    "output_type": "stream",
                    "text": "Help on class Juice in module __main__:\n\nclass Juice(builtins.object)\n |  Juice(fruit, sugar)\n |  \n |  Juice class\n |  \n |  Methods defined here:\n |  \n |  __init__(self, fruit, sugar)\n |      Initialize self.  See help(type(self)) for accurate signature.\n |  \n |  __str__(self)\n |      Return str(self).\n |  \n |  ----------------------------------------------------------------------\n |  Data descriptors defined here:\n |  \n |  __dict__\n |      dictionary for instance variables (if defined)\n |  \n |  __weakref__\n |      list of weak references to the object (if defined)\n\n",
                    "name": "stdout"
                }
            ]
        },
        {
            "metadata": {},
            "cell_type": "markdown",
            "source": "For more information about OOP using python you can reference here: [link](https://docs.python.org/3/tutorial/classes.html) and get more practice and understand the necessary concepts."
        }
    ],
    "metadata": {
        "kernelspec": {
            "name": "python3",
            "display_name": "Python 3.7",
            "language": "python"
        },
        "language_info": {
            "name": "python",
            "version": "3.7.10",
            "mimetype": "text/x-python",
            "codemirror_mode": {
                "name": "ipython",
                "version": 3
            },
            "pygments_lexer": "ipython3",
            "nbconvert_exporter": "python",
            "file_extension": ".py"
        }
    },
    "nbformat": 4,
    "nbformat_minor": 1
}